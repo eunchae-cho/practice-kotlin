{
 "cells": [
  {
   "cell_type": "code",
   "metadata": {
    "collapsed": true,
    "ExecuteTime": {
     "end_time": "2024-10-15T02:15:54.273067Z",
     "start_time": "2024-10-15T02:15:52.992946Z"
    }
   },
   "source": [
    "fun bubbleSort(arr: MutableList<Int>): List<Int> {\n",
    "    for (i in 0 until arr.size) {\n",
    "        for (j in 0 until arr.size - i - 1) {\n",
    "            if (arr[j] > arr[j + 1]) {\n",
    "                val tmp = arr[j]\n",
    "                arr[j] = arr[j + 1]\n",
    "                arr[j + 1] = tmp\n",
    "            }\n",
    "        }\n",
    "    }\n",
    "    return arr\n",
    "}\n",
    "\n",
    "bubbleSort(mutableListOf(9, 5, 2, 4, 1))"
   ],
   "outputs": [
    {
     "data": {
      "text/plain": [
       "[1, 2, 4, 5, 9]"
      ]
     },
     "execution_count": 4,
     "metadata": {},
     "output_type": "execute_result"
    }
   ],
   "execution_count": 4
  },
  {
   "metadata": {
    "ExecuteTime": {
     "end_time": "2024-10-15T02:30:25.594400Z",
     "start_time": "2024-10-15T02:30:25.082329Z"
    }
   },
   "cell_type": "code",
   "source": [
    "fun insertionSort(arr: MutableList<Int>): List<Int> {\n",
    "    for (i in 1 until arr.size) {\n",
    "        val key = arr[i]\n",
    "        var j = i - 1\n",
    "        \n",
    "        while (j >= 0 && arr[j] > key) {\n",
    "            arr[j + 1] = arr[j]\n",
    "            j -= 1\n",
    "        }\n",
    "        \n",
    "        arr[j + 1] = key\n",
    "    }\n",
    "    return arr\n",
    "}\n",
    "\n",
    "insertionSort(mutableListOf(9, 5, 2, 4, 1))"
   ],
   "outputs": [
    {
     "data": {
      "text/plain": [
       "[1, 2, 4, 5, 9]"
      ]
     },
     "execution_count": 9,
     "metadata": {},
     "output_type": "execute_result"
    }
   ],
   "execution_count": 9
  },
  {
   "metadata": {
    "ExecuteTime": {
     "end_time": "2024-10-15T02:35:55.793896Z",
     "start_time": "2024-10-15T02:35:55.237584Z"
    }
   },
   "cell_type": "code",
   "source": [
    "fun selectionSort(arr: MutableList<Int>): List<Int> {\n",
    "    for (i in 0 until arr.size) {\n",
    "        var minIdx = i\n",
    "        for (j in i + 1 until arr.size) {\n",
    "            if (arr[j] < arr[minIdx]) {\n",
    "                minIdx = j\n",
    "            }\n",
    "        }\n",
    "        \n",
    "        val tmp = arr[i]\n",
    "        arr[i] = arr[minIdx]\n",
    "        arr[minIdx] = tmp\n",
    "    }\n",
    "    return arr\n",
    "}\n",
    "\n",
    "selectionSort(mutableListOf(9, 5, 2, 4, 1))"
   ],
   "outputs": [
    {
     "data": {
      "text/plain": [
       "[1, 2, 4, 5, 9]"
      ]
     },
     "execution_count": 11,
     "metadata": {},
     "output_type": "execute_result"
    }
   ],
   "execution_count": 11
  },
  {
   "metadata": {
    "ExecuteTime": {
     "end_time": "2024-10-17T00:33:29.676089Z",
     "start_time": "2024-10-17T00:33:29.224207Z"
    }
   },
   "cell_type": "code",
   "source": [
    "\n",
    "fun partition(arr: MutableList<Int>, low: Int, high: Int): Int {\n",
    "    val pivot = arr[high]\n",
    "    var i = low - 1\n",
    "    \n",
    "    for (j in low until high) {\n",
    "        if (arr[j] <= pivot) {\n",
    "            i++\n",
    "            val tmp = arr[i]\n",
    "            arr[i] = arr[j]\n",
    "            arr[j] = tmp\n",
    "        }\n",
    "    }\n",
    "    \n",
    "    val tmp = arr[i + 1]\n",
    "    arr[i + 1] = arr[high]\n",
    "    arr[high] = tmp\n",
    "    \n",
    "    return i + 1\n",
    "}"
   ],
   "outputs": [],
   "execution_count": 12
  }
 ],
 "metadata": {
  "kernelspec": {
   "display_name": "Kotlin",
   "language": "kotlin",
   "name": "kotlin"
  },
  "language_info": {
   "name": "kotlin",
   "version": "1.9.23",
   "mimetype": "text/x-kotlin",
   "file_extension": ".kt",
   "pygments_lexer": "kotlin",
   "codemirror_mode": "text/x-kotlin",
   "nbconvert_exporter": ""
  }
 },
 "nbformat": 4,
 "nbformat_minor": 0
}
