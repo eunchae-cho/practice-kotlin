{
 "cells": [
  {
   "cell_type": "code",
   "metadata": {
    "collapsed": true,
    "ExecuteTime": {
     "end_time": "2024-10-15T05:50:05.968023Z",
     "start_time": "2024-10-15T05:50:05.603289Z"
    }
   },
   "source": [
    "// 팰린드롬 검사 (앞에서 읽어도 뒤에서 읽어도 같은 문자열)\n",
    "fun mySolution(input: String): Boolean {\n",
    "    val str = input.replace(\" \", \"\").toCharArray().forEach { it.lowercaseChar() }.toString()\n",
    "    val reversedStr =  input.replace(\" \", \"\").toCharArray().reversedArray().forEach { it.lowercaseChar() }.toString()\n",
    "    \n",
    "    return  str.equals(reversedStr)\n",
    "}\n",
    "\n",
    "print(mySolution(\"A man a plan a canal Panama\"))"
   ],
   "outputs": [
    {
     "name": "stdout",
     "output_type": "stream",
     "text": [
      "true"
     ]
    }
   ],
   "execution_count": 33
  },
  {
   "metadata": {
    "ExecuteTime": {
     "end_time": "2024-10-15T07:02:35.460025Z",
     "start_time": "2024-10-15T07:02:34.440462Z"
    }
   },
   "cell_type": "code",
   "source": [
    "// 문자열 압축\n",
    "fun mySolution(input: String): String {\n",
    "    val charArr = input.toCharArray()\n",
    "    var map = mutableMapOf<Char, Int>()\n",
    "    \n",
    "    charArr.forEach {\n",
    "        if (map.containsKey(it)) {\n",
    "            map.put(it, map.get(it)!!.plus(1))\n",
    "        } else {\n",
    "            map.put(it, 1)\n",
    "        }\n",
    "    }\n",
    "    \n",
    "    var result = \"\"\n",
    "    map.map {\n",
    "        result += it.key    \n",
    "        if (it.value > 1) {\n",
    "            result += it.value.toString()\n",
    "        }\n",
    "    }\n",
    "    \n",
    "    return result\n",
    "}\n",
    "\n",
    "print(mySolution(\"aaabbbcc\"))"
   ],
   "outputs": [
    {
     "name": "stdout",
     "output_type": "stream",
     "text": [
      "a3b3c2"
     ]
    }
   ],
   "execution_count": 46
  },
  {
   "metadata": {
    "ExecuteTime": {
     "end_time": "2024-10-15T07:16:16.838490Z",
     "start_time": "2024-10-15T07:16:16.074727Z"
    }
   },
   "cell_type": "code",
   "source": [
    "// 애너그램 검사 (같은 문자로 이루어졌지만 순서가 다른 문자열)\n",
    "fun mySolution(str1: String, str2: String): Boolean {\n",
    "    val map = mutableMapOf<Char, Int>()\n",
    "    \n",
    "    str1.toCharArray().forEach {\n",
    "        val charValue = it.lowercaseChar()\n",
    "        if (map.containsKey(charValue)) {\n",
    "            map.put(charValue, map[it]!!.plus(1))\n",
    "        } else {\n",
    "            map.put(charValue, 1)\n",
    "        }\n",
    "    }\n",
    "    \n",
    "    str2.toCharArray().forEach {\n",
    "        val charValue = it.lowercaseChar()\n",
    "        if (!map.containsKey(charValue)) {\n",
    "            return false\n",
    "        } else {\n",
    "            map.put(charValue, map[charValue]!!.minus(1))\n",
    "            if (map[charValue] == 0) {\n",
    "                map.remove(charValue)\n",
    "            }\n",
    "        }\n",
    "    }\n",
    "    \n",
    "    return map.isEmpty()\n",
    "}\n",
    "\n",
    "print(mySolution( \"Listen\", \"Silent\"))"
   ],
   "outputs": [
    {
     "name": "stdout",
     "output_type": "stream",
     "text": [
      "true"
     ]
    }
   ],
   "execution_count": 53
  },
  {
   "metadata": {},
   "cell_type": "code",
   "outputs": [],
   "execution_count": null,
   "source": ""
  }
 ],
 "metadata": {
  "kernelspec": {
   "display_name": "Kotlin",
   "language": "kotlin",
   "name": "kotlin"
  },
  "language_info": {
   "name": "kotlin",
   "version": "1.9.23",
   "mimetype": "text/x-kotlin",
   "file_extension": ".kt",
   "pygments_lexer": "kotlin",
   "codemirror_mode": "text/x-kotlin",
   "nbconvert_exporter": ""
  }
 },
 "nbformat": 4,
 "nbformat_minor": 0
}
