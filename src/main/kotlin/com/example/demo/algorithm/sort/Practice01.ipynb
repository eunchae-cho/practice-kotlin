{
 "cells": [
  {
   "cell_type": "code",
   "metadata": {
    "collapsed": true,
    "ExecuteTime": {
     "end_time": "2024-10-16T02:40:08.713027Z",
     "start_time": "2024-10-16T02:40:08.564194Z"
    }
   },
   "source": [
    "// 팰린드롬 검사 (앞에서 읽어도 뒤에서 읽어도 같은 문자열)\n",
    "fun mySolution(input: String): Boolean {\n",
    "    val str = input.filter { it.isLetterOrDigit() }.lowercase()\n",
    "    return  str == str.reversed()\n",
    "}\n",
    "\n",
    "print(mySolution(\"A man a plan a canal Panama\"))"
   ],
   "outputs": [
    {
     "name": "stdout",
     "output_type": "stream",
     "text": [
      "true"
     ]
    }
   ],
   "execution_count": 56
  },
  {
   "metadata": {
    "ExecuteTime": {
     "end_time": "2024-10-15T07:02:35.460025Z",
     "start_time": "2024-10-15T07:02:34.440462Z"
    }
   },
   "cell_type": "code",
   "source": [
    "// 문자열 압축\n",
    "fun mySolution(input: String): String {\n",
    "    val charArr = input.toCharArray()\n",
    "    var map = mutableMapOf<Char, Int>()\n",
    "    \n",
    "    charArr.forEach {\n",
    "        if (map.containsKey(it)) {\n",
    "            map.put(it, map.get(it)!!.plus(1))\n",
    "        } else {\n",
    "            map.put(it, 1)\n",
    "        }\n",
    "    }\n",
    "    \n",
    "    var result = \"\"\n",
    "    map.map {\n",
    "        result += it.key    \n",
    "        if (it.value > 1) {\n",
    "            result += it.value.toString()\n",
    "        }\n",
    "    }\n",
    "    \n",
    "    return result\n",
    "}\n",
    "\n",
    "print(mySolution(\"aaabbbcc\"))"
   ],
   "outputs": [
    {
     "name": "stdout",
     "output_type": "stream",
     "text": [
      "a3b3c2"
     ]
    }
   ],
   "execution_count": 46
  },
  {
   "metadata": {
    "ExecuteTime": {
     "end_time": "2024-10-16T02:43:45.107882Z",
     "start_time": "2024-10-16T02:43:44.392970Z"
    }
   },
   "cell_type": "code",
   "source": [
    "// 애너그램 검사 (같은 문자로 이루어졌지만 순서가 다른 문자열)\n",
    "fun mySolution(str1: String, str2: String): Boolean {\n",
    "    val filterStr1 = str1.filter { it.isLetterOrDigit() }.lowercase()\n",
    "    val filterStr2 = str2.filter { it.isLetterOrDigit() }.lowercase()\n",
    "    \n",
    "    return filterStr1.toList().sorted() == filterStr2.toList().sorted()\n",
    "}\n",
    "\n",
    "print(mySolution( \"Listen\", \"Silent\"))"
   ],
   "outputs": [
    {
     "name": "stdout",
     "output_type": "stream",
     "text": [
      "true"
     ]
    }
   ],
   "execution_count": 57
  },
  {
   "metadata": {},
   "cell_type": "code",
   "outputs": [],
   "execution_count": null,
   "source": [
    "// 이진 트리의 전위 순위, 후위 순위\n",
    "data class Node(val num: Int, val x: Int, val y: Int)\n",
    "data class TreeNode(val num: Int, var left: TreeNode?  = null, var right: TreeNode? = null)\n",
    "\n",
    "class Solution {\n",
    "    fun solution(nodeinfo: Array<IntArray>): Array<IntArray> {\n",
    "        val nodes = nodeinfo.mapIndexed { index, it -> Node(index + 1, it[0], it[1])}\n",
    "            .sortedWith(compareByDescending<Node> { it.y }.thenBy { it.x })\n",
    "        \n",
    "        val root = buildTree(nodes)\n",
    "        \n",
    "        val preorderResult = mutableListOf<Int>()\n",
    "        preorder(root, preorderResult)\n",
    "        \n",
    "        val postorderResult = mutableListOf<Int>()\n",
    "        postorder(root, postorderResult)\n",
    "        \n",
    "        return arrayOf(preorderResult.toIntArray(), postorderResult.toIntArray()) \n",
    "    }\n",
    "    \n",
    "    fun buildTree(nodes: List<Node>): TreeNode? {\n",
    "        if (nodes.isEmpty()) return null\n",
    "        val rootNode = nodes[0]\n",
    "        val leftSubtreeNodes = nodes.filter { it.x < rootNode.x }\n",
    "        val rightSubtreeNodes = nodes.filter { it.x > rootNode.x }\n",
    "        \n",
    "        return TreeNode(\n",
    "            rootNode.num,\n",
    "            buildTree(leftSubtreeNodes),\n",
    "            buildTree(rightSubtreeNodes)\n",
    "        )\n",
    "    }\n",
    "    \n",
    "    fun preorder(node: TreeNode?, result: MutableList<Int>) {\n",
    "        if (node == null) return\n",
    "        result.add(node.num)\n",
    "        preorder(node.left, result)\n",
    "        preorder(node.right, result)\n",
    "    }\n",
    "    \n",
    "    fun postorder(node: TreeNode?, result: MutableList<Int>) {\n",
    "        if (node == null) return\n",
    "        postorder(node.left, result)\n",
    "        postorder(node.right, result)\n",
    "        result.add(node.num)\n",
    "    }\n",
    "}"
   ]
  },
  {
   "metadata": {
    "ExecuteTime": {
     "end_time": "2024-10-17T01:27:15.935985Z",
     "start_time": "2024-10-17T01:27:15.737898Z"
    }
   },
   "cell_type": "code",
   "source": [
    "// 프로그래머스 - 올바른 괄호의 갯수\n",
    "class Solution {\n",
    "    fun solution(n: Int): Int {\n",
    "        var answer = 0\n",
    "        answer = generate(n, 0, 0)\n",
    "        return answer\n",
    "    }\n",
    "    \n",
    "    fun generate(num: Int, open: Int, close: Int): Int {\n",
    "        if (open == num && close == close) {\n",
    "            return 1\n",
    "        }\n",
    "        \n",
    "        var cnt = 0\n",
    "        \n",
    "        if (open < num) {\n",
    "            cnt += generate(num, open + 1, close)\n",
    "        }\n",
    "        \n",
    "        if (close < open) {\n",
    "            cnt += generate(num, open, close + 1)\n",
    "        }\n",
    "        \n",
    "        return cnt\n",
    "    }\n",
    "}\n",
    "\n",
    "Solution().solution(4)"
   ],
   "outputs": [
    {
     "data": {
      "text/plain": [
       "14"
      ]
     },
     "execution_count": 62,
     "metadata": {},
     "output_type": "execute_result"
    }
   ],
   "execution_count": 62
  },
  {
   "metadata": {
    "ExecuteTime": {
     "end_time": "2024-10-17T07:23:14.478487Z",
     "start_time": "2024-10-17T07:23:14.074629Z"
    }
   },
   "cell_type": "code",
   "source": [
    "import java.util.PriorityQueue\n",
    "\n",
    "// 플로이드-워셜 알고리즘\n",
    "class Solution {\n",
    "    fun solution(n: Int, results: Array<IntArray>): Int {\n",
    "        var answer = 0\n",
    "        var arr = mutableListOf<Int>()\n",
    "        \n",
    "        for (i in 0 until results.size) {\n",
    "            val winner = results[i][0]\n",
    "            val loser = results[i][1]\n",
    "            val winnerIdx = arr.indexOf(winner)\n",
    "            val loserIdx = arr.indexOf(loser)\n",
    "            \n",
    "            if (winnerIdx != -1) {\n",
    "                arr.add(winnerIdx)\n",
    "            } \n",
    "            \n",
    "            if (loserIdx != -1) {\n",
    "                arr.add(loserIdx)\n",
    "            } \n",
    "        }\n",
    "        \n",
    "        return answer\n",
    "    }\n",
    "}"
   ],
   "outputs": [
    {
     "name": "stdout",
     "output_type": "stream",
     "text": [
      "[-2, 3, -1, 7]\n"
     ]
    }
   ],
   "execution_count": 15
  },
  {
   "metadata": {},
   "cell_type": "code",
   "outputs": [],
   "execution_count": null,
   "source": [
    "fun solution(operations: Array<String>): IntArray {\n",
    "    val maxHeap = PriorityQueue<Int>(compareByDescending { it })\n",
    "    val minHeap = PriorityQueue<Int>()\n",
    "    val entries = mutableMapOf<Int, Int>()\n",
    "    \n",
    "    for (operation in operations) {\n",
    "        val (cmd, value) = operation.split(\" \")\n",
    "        val num = value.toInt()\n",
    "        \n",
    "        when (cmd) {\n",
    "            \"I\" -> {\n",
    "                maxHeap.offer(num)\n",
    "                minHeap.offer(num)\n",
    "                entries[num] = entries.getOrDefault(num, 0) + 1\n",
    "            }\n",
    "            \"D\" -> {\n",
    "                if (entries.isEmpty()) continue\n",
    "                \n",
    "                if (num == 1) {\n",
    "                    removeHeapAndEntries(maxHeap, entries)\n",
    "                }\n",
    "                \n",
    "                if (num == -1) {\n",
    "                    removeHeapAndEntries(minHeap, entries)\n",
    "                }\n",
    "            }\n",
    "        }\n",
    "    }\n",
    "\n",
    "    if (entries.isEmpty()) {\n",
    "        return intArrayOf(0, 0)\n",
    "    }\n",
    "\n",
    "    val max = removeHeapAndEntries(maxHeap, entries) ?: 0\n",
    "    val min = removeHeapAndEntries(minHeap, entries) ?: 0\n",
    "    \n",
    "    return intArrayOf(max, min)\n",
    "}\n",
    "\n",
    "fun removeHeapAndEntries(heap: PriorityQueue<Int>, entries: MutableMap<Int, Int>): Int? {\n",
    "    while (heap.isNotEmpty()) {\n",
    "        val num = heap.poll()\n",
    "        val cnt = entries[num] ?: continue\n",
    "        \n",
    "        if (cnt > 0) {\n",
    "            entries[num] = cnt - 1\n",
    "            if (entries[num] == 0) {\n",
    "                entries.remove(num)\n",
    "            }\n",
    "            return num\n",
    "        }\n",
    "    }\n",
    "    \n",
    "    return null\n",
    "}\n"
   ]
  }
 ],
 "metadata": {
  "kernelspec": {
   "display_name": "Kotlin",
   "language": "kotlin",
   "name": "kotlin"
  },
  "language_info": {
   "name": "kotlin",
   "version": "1.9.23",
   "mimetype": "text/x-kotlin",
   "file_extension": ".kt",
   "pygments_lexer": "kotlin",
   "codemirror_mode": "text/x-kotlin",
   "nbconvert_exporter": ""
  }
 },
 "nbformat": 4,
 "nbformat_minor": 0
}
